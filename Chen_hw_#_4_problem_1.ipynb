{
 "cells": [
  {
   "cell_type": "code",
   "execution_count": 1,
   "metadata": {},
   "outputs": [
    {
     "name": "stdout",
     "output_type": "stream",
     "text": [
      "Plant Earth has mass 5.97219e+24 kg , eccentricity 0.01671123 , semi major axis 1.0 A.U. and the period 1.0005917185435815 years\n",
      "Plant Mercury has mass 3.3011e+23 kg , eccentricity 0.20563593 , semi major axis 0.3871 A.U. and the period 0.24098625742935 years\n",
      "Plant Mars has mass 6.41693e+23 kg , eccentricity 0.0933941 , semi major axis 1.5273 A.U. and the period 1.8886175179487072 years\n",
      "Plant Jupiter has mass 1.89813e+27 kg , eccentricity 0.04838624 , semi major axis 5.2028 A.U. and the period 11.86878125346872 years\n",
      "Plant Venus has mass 4.86732e+24 kg , eccentricity 0.00677672 , semi major axis 0.7233 A.U. and the period 0.6155094461256321 years\n",
      "Plant Neptune has mass 1.0241e+26 kg , eccentricity 0.00859048 , semi major axis 30.0611 A.U. and the period 164.91253906983113 years\n",
      "Plant Uranus has mass 8.68103e+25 kg , eccentricity 0.04725744 , semi major axis 19.1914 A.U. and the period 84.12170470282119 years\n",
      "Plant Saturn has mass 5.68319e+26 kg , eccentricity 0.05386179 , semi major axis 9.5388 A.U. and the period 29.47380010896181 years\n"
     ]
    }
   ],
   "source": [
    "import numpy as np\n",
    "import matplotlib.pyplot as plt\n",
    "import scipy\n",
    "import scipy.stats\n",
    "planetdict ={\"Mercury\":{\"mass\":3.3011e23,\"eccentricity\":0.20563593,\"semi major axis\":0.3871},\\\n",
    "             \"Venus\":{\"mass\":4.86732e24,\"eccentricity\":0.00677672,\"semi major axis\":0.7233},\\\n",
    "             \"Earth\":{\"mass\":5.97219e24,\"eccentricity\":0.01671123,\"semi major axis\":1.000},\\\n",
    "             \"Mars\":{\"mass\":6.41693e23,\"eccentricity\":0.0933941,\"semi major axis\":1.5273},\\\n",
    "             \"Jupiter\":{\"mass\":1.89813e27,\"eccentricity\":0.04838624,\"semi major axis\":5.2028}\\\n",
    "             ,\"Saturn\":{\"mass\":5.68319e26,\"eccentricity\":0.05386179,\"semi major axis\":9.5388},\\\n",
    "             \"Uranus\":{\"mass\":8.68103e25,\"eccentricity\":0.04725744,\"semi major axis\":19.1914},\\\n",
    "             \"Neptune\":{\"mass\":1.0241e26,\"eccentricity\":0.00859048,\"semi major axis\":30.0611}} # Unit: Kg / eccentricity / A.U.\n",
    "\n",
    "au=1.496e11 #meters\n",
    "sunmass=1.989e30 #kg\n",
    "\n",
    "def period(m,M,r):\n",
    "    G=6.67408e-11\n",
    "    T=2*np.pi*np.sqrt((r**3)/(G*(M+m)))/60/60/24/365\n",
    "    return T #yrs\n",
    "\n",
    "for plant1 in planetdict:\n",
    "    print(\"Plant\",plant1,\"has mass\",planetdict[plant1][\"mass\"],\"kg\",\", eccentricity\",planetdict[plant1][\"eccentricity\"],\\\n",
    "          \", semi major axis\",planetdict[plant1][\"semi major axis\"],\n",
    "          \"A.U. and the period\",period(planetdict[plant1][\"mass\"],sunmass,planetdict[plant1][\"semi major axis\"]*au),\"years\")"
   ]
  },
  {
   "cell_type": "code",
   "execution_count": 2,
   "metadata": {},
   "outputs": [],
   "source": [
    "\n",
    "planetdict2 ={\"Mercury\":0.2408467,\\\n",
    "             \"Venus\":0.61519726,\\\n",
    "             \"Earth\":1.0000174,\\\n",
    "             \"Mars\":1.8808476,\\\n",
    "             \"Jupiter\":11.862615\\\n",
    "             ,\"Saturn\":29.447498,\\\n",
    "             \"Uranus\":84.016846,\\\n",
    "             \"Neptune\":164.79132} #years (365days)"
   ]
  },
  {
   "cell_type": "code",
   "execution_count": 3,
   "metadata": {},
   "outputs": [
    {
     "data": {
      "image/png": "[encoded data removed]",
      "text/plain": [
       "<matplotlib.figure.Figure at 0x1ff6d475d30>"
      ]
     },
     "metadata": {},
     "output_type": "display_data"
    },
    {
     "data": {
      "text/plain": [
       "KendalltauResult(correlation=0.9999999999999998, pvalue=4.96031746031746e-05)"
      ]
     },
     "execution_count": 3,
     "metadata": {},
     "output_type": "execute_result"
    }
   ],
   "source": [
    "x=np.ones(8)\n",
    "y=np.ones(8)\n",
    "z=np.ones(8)\n",
    "c=0\n",
    "for plant1 in planetdict:\n",
    "    x[c]=period(planetdict[plant1][\"mass\"],sunmass,planetdict[plant1][\"semi major axis\"]*au)\n",
    "    y[c]=planetdict2[plant1]\n",
    "    z[c]=planetdict[plant1][\"semi major axis\"]\n",
    "    plt.plot(z[c],(x[c]-y[c])/y[c],'ro')\n",
    "    c=c+1\n",
    "plt.show()\n",
    "#scipy.stats.pearsonr(z, x-y/y)\n",
    "#scipy.stats.spearmanr(z, x-y/y) \n",
    "scipy.stats.kendalltau(z, x-y/y) \n",
    "#print(z)"
   ]
  },
  {
   "cell_type": "code",
   "execution_count": 4,
   "metadata": {},
   "outputs": [
    {
     "data": {
      "image/png": "[encoded data removed]",
      "text/plain": [
       "<matplotlib.figure.Figure at 0x1ff6d475898>"
      ]
     },
     "metadata": {},
     "output_type": "display_data"
    },
    {
     "data": {
      "text/plain": [
       "KendalltauResult(correlation=0.4999999999999999, pvalue=0.10868055555555556)"
      ]
     },
     "execution_count": 4,
     "metadata": {},
     "output_type": "execute_result"
    }
   ],
   "source": [
    "x=np.ones(8)\n",
    "y=np.ones(8)\n",
    "z=np.ones(8)\n",
    "c=0\n",
    "for plant1 in planetdict:\n",
    "    x[c]=period(planetdict[plant1][\"mass\"],sunmass,planetdict[plant1][\"semi major axis\"]*au)\n",
    "    y[c]=planetdict2[plant1]\n",
    "    z[c]=planetdict[plant1][\"mass\"]\n",
    "    plt.plot(z[c],(x[c]-y[c])/y[c],'ro')\n",
    "    c=c+1\n",
    "plt.show()\n",
    "#scipy.stats.pearsonr(z, x-y/y)\n",
    "#scipy.stats.spearmanr(z, x-y/y) \n",
    "scipy.stats.kendalltau(z, x-y/y) "
   ]
  },
  {
   "cell_type": "markdown",
   "metadata": {},
   "source": [
    "The correlation of relative error and the distance from sun is higher than the one of relative error and planet's mass."
   ]
  },
  {
   "cell_type": "code",
   "execution_count": null,
   "metadata": {},
   "outputs": [],
   "source": []
  },
  {
   "cell_type": "code",
   "execution_count": 5,
   "metadata": {},
   "outputs": [
    {
     "data": {
      "text/plain": [
       "SpearmanrResult(correlation=0.7142857142857144, pvalue=0.04652823228416724)"
      ]
     },
     "execution_count": 5,
     "metadata": {},
     "output_type": "execute_result"
    }
   ],
   "source": [
    "scipy.stats.spearmanr(z, x-y/y) "
   ]
  },
  {
   "cell_type": "code",
   "execution_count": null,
   "metadata": {},
   "outputs": [],
   "source": []
  }
 ],
 "metadata": {
  "kernelspec": {
   "display_name": "Python 3",
   "language": "python",
   "name": "python3"
  },
  "language_info": {
   "codemirror_mode": {
    "name": "ipython",
    "version": 3
   },
   "file_extension": ".py",
   "mimetype": "text/x-python",
   "name": "python",
   "nbconvert_exporter": "python",
   "pygments_lexer": "ipython3",
   "version": "3.5.4"
  }
 },
 "nbformat": 4,
 "nbformat_minor": 2
}
